{
 "cells": [
  {
   "cell_type": "code",
   "execution_count": 1,
   "metadata": {},
   "outputs": [],
   "source": [
    "import pandas as pd\n",
    "import plotly.express as px\n"
   ]
  },
  {
   "cell_type": "code",
   "execution_count": 2,
   "metadata": {},
   "outputs": [],
   "source": [
    "FOLDER = 'data/generation_lab_survey/'\n",
    "df_results = pd.read_excel(f'{FOLDER}raw_survey_1323.xlsx',index_col=[1],skiprows=[1])\n",
    "df_questions = pd.read_excel(f'{FOLDER}raw_survey_1323.xlsx',index_col=[1],skiprows=[2]).head(1).T"
   ]
  },
  {
   "cell_type": "code",
   "execution_count": 3,
   "metadata": {},
   "outputs": [],
   "source": [
    "uses_list = ['30 minutes to 1 hour','1 to 2 hours','2 to 3 hours','More than 3 hours']\n",
    "doesnt_use_list = ['I do not use this platform']\n",
    "\n",
    "agree_list = ['Strongly Agree','Moderately Agree','Slightly Agree']\n",
    "disagree_list = ['Strongly Disagree','Moderately Disagree','Slightly Disagree']\n"
   ]
  },
  {
   "cell_type": "code",
   "execution_count": 4,
   "metadata": {},
   "outputs": [],
   "source": [
    "\n",
    "question_dict = {'1.9_1': 'Agree','1.9_2':'Agree','1.9_3':'Agree','1.9_4':'Disagree','1.9_5':'Disagree','1.9_6': 'Disagree','1.9_7': 'Agree','1.9_8': 'Agree','1.9_9':'Agree','1.9_10':'Disagree','1.9_11':'Disagree','1.9_12':'Disagree'}\n",
    "platform_dict = {\"TikTok\":'1.3_4',\"Instagram\":'1.3_1',\"X\":'1.3_3'}\n",
    "\n",
    "for platform in platform_dict.keys():\n",
    "    df_results[platform] = None\n",
    "    mask = (df_results[platform_dict[platform]].isin(uses_list))     \n",
    "    df_results.loc[mask,platform] = True\n",
    "\n",
    "    mask = (df_results[platform_dict[platform]].isin(doesnt_use_list))     \n",
    "    df_results.loc[mask,platform] = False \n"
   ]
  },
  {
   "cell_type": "code",
   "execution_count": 5,
   "metadata": {},
   "outputs": [
    {
     "name": "stderr",
     "output_type": "stream",
     "text": [
      "/var/folders/8s/vl53fbd96rzd3wn49w05rygr0000gn/T/ipykernel_97854/3349402800.py:26: PerformanceWarning: indexing past lexsort depth may impact performance.\n",
      "  df_answer_summary.loc[(platform,uses_platform,question),'Neutral'] = df_results.loc[mask,f'{question}_agree'].isna().sum()\n",
      "/var/folders/8s/vl53fbd96rzd3wn49w05rygr0000gn/T/ipykernel_97854/3349402800.py:27: PerformanceWarning: indexing past lexsort depth may impact performance.\n",
      "  df_answer_summary.loc[(platform,uses_platform,question),'Disagree'] = mask.sum() - df_results.loc[mask,f'{question}_agree'].sum() - df_results.loc[mask,f'{question}_agree'].isna().sum()\n",
      "/var/folders/8s/vl53fbd96rzd3wn49w05rygr0000gn/T/ipykernel_97854/3349402800.py:25: PerformanceWarning: indexing past lexsort depth may impact performance.\n",
      "  df_answer_summary.loc[(platform,uses_platform,question),'Agree'] = df_results.loc[mask,f'{question}_agree'].sum()\n",
      "/var/folders/8s/vl53fbd96rzd3wn49w05rygr0000gn/T/ipykernel_97854/3349402800.py:25: PerformanceWarning: indexing past lexsort depth may impact performance.\n",
      "  df_answer_summary.loc[(platform,uses_platform,question),'Agree'] = df_results.loc[mask,f'{question}_agree'].sum()\n",
      "/var/folders/8s/vl53fbd96rzd3wn49w05rygr0000gn/T/ipykernel_97854/3349402800.py:26: PerformanceWarning: indexing past lexsort depth may impact performance.\n",
      "  df_answer_summary.loc[(platform,uses_platform,question),'Neutral'] = df_results.loc[mask,f'{question}_agree'].isna().sum()\n",
      "/var/folders/8s/vl53fbd96rzd3wn49w05rygr0000gn/T/ipykernel_97854/3349402800.py:27: PerformanceWarning: indexing past lexsort depth may impact performance.\n",
      "  df_answer_summary.loc[(platform,uses_platform,question),'Disagree'] = mask.sum() - df_results.loc[mask,f'{question}_agree'].sum() - df_results.loc[mask,f'{question}_agree'].isna().sum()\n",
      "/var/folders/8s/vl53fbd96rzd3wn49w05rygr0000gn/T/ipykernel_97854/3349402800.py:25: PerformanceWarning: indexing past lexsort depth may impact performance.\n",
      "  df_answer_summary.loc[(platform,uses_platform,question),'Agree'] = df_results.loc[mask,f'{question}_agree'].sum()\n",
      "/var/folders/8s/vl53fbd96rzd3wn49w05rygr0000gn/T/ipykernel_97854/3349402800.py:25: PerformanceWarning: indexing past lexsort depth may impact performance.\n",
      "  df_answer_summary.loc[(platform,uses_platform,question),'Agree'] = df_results.loc[mask,f'{question}_agree'].sum()\n",
      "/var/folders/8s/vl53fbd96rzd3wn49w05rygr0000gn/T/ipykernel_97854/3349402800.py:26: PerformanceWarning: indexing past lexsort depth may impact performance.\n",
      "  df_answer_summary.loc[(platform,uses_platform,question),'Neutral'] = df_results.loc[mask,f'{question}_agree'].isna().sum()\n",
      "/var/folders/8s/vl53fbd96rzd3wn49w05rygr0000gn/T/ipykernel_97854/3349402800.py:27: PerformanceWarning: indexing past lexsort depth may impact performance.\n",
      "  df_answer_summary.loc[(platform,uses_platform,question),'Disagree'] = mask.sum() - df_results.loc[mask,f'{question}_agree'].sum() - df_results.loc[mask,f'{question}_agree'].isna().sum()\n",
      "/var/folders/8s/vl53fbd96rzd3wn49w05rygr0000gn/T/ipykernel_97854/3349402800.py:25: PerformanceWarning: indexing past lexsort depth may impact performance.\n",
      "  df_answer_summary.loc[(platform,uses_platform,question),'Agree'] = df_results.loc[mask,f'{question}_agree'].sum()\n",
      "/var/folders/8s/vl53fbd96rzd3wn49w05rygr0000gn/T/ipykernel_97854/3349402800.py:25: PerformanceWarning: indexing past lexsort depth may impact performance.\n",
      "  df_answer_summary.loc[(platform,uses_platform,question),'Agree'] = df_results.loc[mask,f'{question}_agree'].sum()\n",
      "/var/folders/8s/vl53fbd96rzd3wn49w05rygr0000gn/T/ipykernel_97854/3349402800.py:26: PerformanceWarning: indexing past lexsort depth may impact performance.\n",
      "  df_answer_summary.loc[(platform,uses_platform,question),'Neutral'] = df_results.loc[mask,f'{question}_agree'].isna().sum()\n",
      "/var/folders/8s/vl53fbd96rzd3wn49w05rygr0000gn/T/ipykernel_97854/3349402800.py:27: PerformanceWarning: indexing past lexsort depth may impact performance.\n",
      "  df_answer_summary.loc[(platform,uses_platform,question),'Disagree'] = mask.sum() - df_results.loc[mask,f'{question}_agree'].sum() - df_results.loc[mask,f'{question}_agree'].isna().sum()\n",
      "/var/folders/8s/vl53fbd96rzd3wn49w05rygr0000gn/T/ipykernel_97854/3349402800.py:25: PerformanceWarning: indexing past lexsort depth may impact performance.\n",
      "  df_answer_summary.loc[(platform,uses_platform,question),'Agree'] = df_results.loc[mask,f'{question}_agree'].sum()\n",
      "/var/folders/8s/vl53fbd96rzd3wn49w05rygr0000gn/T/ipykernel_97854/3349402800.py:25: PerformanceWarning: indexing past lexsort depth may impact performance.\n",
      "  df_answer_summary.loc[(platform,uses_platform,question),'Agree'] = df_results.loc[mask,f'{question}_agree'].sum()\n",
      "/var/folders/8s/vl53fbd96rzd3wn49w05rygr0000gn/T/ipykernel_97854/3349402800.py:26: PerformanceWarning: indexing past lexsort depth may impact performance.\n",
      "  df_answer_summary.loc[(platform,uses_platform,question),'Neutral'] = df_results.loc[mask,f'{question}_agree'].isna().sum()\n",
      "/var/folders/8s/vl53fbd96rzd3wn49w05rygr0000gn/T/ipykernel_97854/3349402800.py:27: PerformanceWarning: indexing past lexsort depth may impact performance.\n",
      "  df_answer_summary.loc[(platform,uses_platform,question),'Disagree'] = mask.sum() - df_results.loc[mask,f'{question}_agree'].sum() - df_results.loc[mask,f'{question}_agree'].isna().sum()\n",
      "/var/folders/8s/vl53fbd96rzd3wn49w05rygr0000gn/T/ipykernel_97854/3349402800.py:25: PerformanceWarning: indexing past lexsort depth may impact performance.\n",
      "  df_answer_summary.loc[(platform,uses_platform,question),'Agree'] = df_results.loc[mask,f'{question}_agree'].sum()\n",
      "/var/folders/8s/vl53fbd96rzd3wn49w05rygr0000gn/T/ipykernel_97854/3349402800.py:25: PerformanceWarning: indexing past lexsort depth may impact performance.\n",
      "  df_answer_summary.loc[(platform,uses_platform,question),'Agree'] = df_results.loc[mask,f'{question}_agree'].sum()\n",
      "/var/folders/8s/vl53fbd96rzd3wn49w05rygr0000gn/T/ipykernel_97854/3349402800.py:26: PerformanceWarning: indexing past lexsort depth may impact performance.\n",
      "  df_answer_summary.loc[(platform,uses_platform,question),'Neutral'] = df_results.loc[mask,f'{question}_agree'].isna().sum()\n",
      "/var/folders/8s/vl53fbd96rzd3wn49w05rygr0000gn/T/ipykernel_97854/3349402800.py:27: PerformanceWarning: indexing past lexsort depth may impact performance.\n",
      "  df_answer_summary.loc[(platform,uses_platform,question),'Disagree'] = mask.sum() - df_results.loc[mask,f'{question}_agree'].sum() - df_results.loc[mask,f'{question}_agree'].isna().sum()\n",
      "/var/folders/8s/vl53fbd96rzd3wn49w05rygr0000gn/T/ipykernel_97854/3349402800.py:25: PerformanceWarning: indexing past lexsort depth may impact performance.\n",
      "  df_answer_summary.loc[(platform,uses_platform,question),'Agree'] = df_results.loc[mask,f'{question}_agree'].sum()\n",
      "/var/folders/8s/vl53fbd96rzd3wn49w05rygr0000gn/T/ipykernel_97854/3349402800.py:25: PerformanceWarning: indexing past lexsort depth may impact performance.\n",
      "  df_answer_summary.loc[(platform,uses_platform,question),'Agree'] = df_results.loc[mask,f'{question}_agree'].sum()\n",
      "/var/folders/8s/vl53fbd96rzd3wn49w05rygr0000gn/T/ipykernel_97854/3349402800.py:26: PerformanceWarning: indexing past lexsort depth may impact performance.\n",
      "  df_answer_summary.loc[(platform,uses_platform,question),'Neutral'] = df_results.loc[mask,f'{question}_agree'].isna().sum()\n",
      "/var/folders/8s/vl53fbd96rzd3wn49w05rygr0000gn/T/ipykernel_97854/3349402800.py:27: PerformanceWarning: indexing past lexsort depth may impact performance.\n",
      "  df_answer_summary.loc[(platform,uses_platform,question),'Disagree'] = mask.sum() - df_results.loc[mask,f'{question}_agree'].sum() - df_results.loc[mask,f'{question}_agree'].isna().sum()\n",
      "/var/folders/8s/vl53fbd96rzd3wn49w05rygr0000gn/T/ipykernel_97854/3349402800.py:25: PerformanceWarning: indexing past lexsort depth may impact performance.\n",
      "  df_answer_summary.loc[(platform,uses_platform,question),'Agree'] = df_results.loc[mask,f'{question}_agree'].sum()\n",
      "/var/folders/8s/vl53fbd96rzd3wn49w05rygr0000gn/T/ipykernel_97854/3349402800.py:25: PerformanceWarning: indexing past lexsort depth may impact performance.\n",
      "  df_answer_summary.loc[(platform,uses_platform,question),'Agree'] = df_results.loc[mask,f'{question}_agree'].sum()\n",
      "/var/folders/8s/vl53fbd96rzd3wn49w05rygr0000gn/T/ipykernel_97854/3349402800.py:26: PerformanceWarning: indexing past lexsort depth may impact performance.\n",
      "  df_answer_summary.loc[(platform,uses_platform,question),'Neutral'] = df_results.loc[mask,f'{question}_agree'].isna().sum()\n",
      "/var/folders/8s/vl53fbd96rzd3wn49w05rygr0000gn/T/ipykernel_97854/3349402800.py:27: PerformanceWarning: indexing past lexsort depth may impact performance.\n",
      "  df_answer_summary.loc[(platform,uses_platform,question),'Disagree'] = mask.sum() - df_results.loc[mask,f'{question}_agree'].sum() - df_results.loc[mask,f'{question}_agree'].isna().sum()\n",
      "/var/folders/8s/vl53fbd96rzd3wn49w05rygr0000gn/T/ipykernel_97854/3349402800.py:25: PerformanceWarning: indexing past lexsort depth may impact performance.\n",
      "  df_answer_summary.loc[(platform,uses_platform,question),'Agree'] = df_results.loc[mask,f'{question}_agree'].sum()\n",
      "/var/folders/8s/vl53fbd96rzd3wn49w05rygr0000gn/T/ipykernel_97854/3349402800.py:25: PerformanceWarning: indexing past lexsort depth may impact performance.\n",
      "  df_answer_summary.loc[(platform,uses_platform,question),'Agree'] = df_results.loc[mask,f'{question}_agree'].sum()\n",
      "/var/folders/8s/vl53fbd96rzd3wn49w05rygr0000gn/T/ipykernel_97854/3349402800.py:26: PerformanceWarning: indexing past lexsort depth may impact performance.\n",
      "  df_answer_summary.loc[(platform,uses_platform,question),'Neutral'] = df_results.loc[mask,f'{question}_agree'].isna().sum()\n",
      "/var/folders/8s/vl53fbd96rzd3wn49w05rygr0000gn/T/ipykernel_97854/3349402800.py:27: PerformanceWarning: indexing past lexsort depth may impact performance.\n",
      "  df_answer_summary.loc[(platform,uses_platform,question),'Disagree'] = mask.sum() - df_results.loc[mask,f'{question}_agree'].sum() - df_results.loc[mask,f'{question}_agree'].isna().sum()\n",
      "/var/folders/8s/vl53fbd96rzd3wn49w05rygr0000gn/T/ipykernel_97854/3349402800.py:25: PerformanceWarning: indexing past lexsort depth may impact performance.\n",
      "  df_answer_summary.loc[(platform,uses_platform,question),'Agree'] = df_results.loc[mask,f'{question}_agree'].sum()\n",
      "/var/folders/8s/vl53fbd96rzd3wn49w05rygr0000gn/T/ipykernel_97854/3349402800.py:25: PerformanceWarning: indexing past lexsort depth may impact performance.\n",
      "  df_answer_summary.loc[(platform,uses_platform,question),'Agree'] = df_results.loc[mask,f'{question}_agree'].sum()\n",
      "/var/folders/8s/vl53fbd96rzd3wn49w05rygr0000gn/T/ipykernel_97854/3349402800.py:26: PerformanceWarning: indexing past lexsort depth may impact performance.\n",
      "  df_answer_summary.loc[(platform,uses_platform,question),'Neutral'] = df_results.loc[mask,f'{question}_agree'].isna().sum()\n",
      "/var/folders/8s/vl53fbd96rzd3wn49w05rygr0000gn/T/ipykernel_97854/3349402800.py:27: PerformanceWarning: indexing past lexsort depth may impact performance.\n",
      "  df_answer_summary.loc[(platform,uses_platform,question),'Disagree'] = mask.sum() - df_results.loc[mask,f'{question}_agree'].sum() - df_results.loc[mask,f'{question}_agree'].isna().sum()\n",
      "/var/folders/8s/vl53fbd96rzd3wn49w05rygr0000gn/T/ipykernel_97854/3349402800.py:25: PerformanceWarning: indexing past lexsort depth may impact performance.\n",
      "  df_answer_summary.loc[(platform,uses_platform,question),'Agree'] = df_results.loc[mask,f'{question}_agree'].sum()\n",
      "/var/folders/8s/vl53fbd96rzd3wn49w05rygr0000gn/T/ipykernel_97854/3349402800.py:25: PerformanceWarning: indexing past lexsort depth may impact performance.\n",
      "  df_answer_summary.loc[(platform,uses_platform,question),'Agree'] = df_results.loc[mask,f'{question}_agree'].sum()\n",
      "/var/folders/8s/vl53fbd96rzd3wn49w05rygr0000gn/T/ipykernel_97854/3349402800.py:26: PerformanceWarning: indexing past lexsort depth may impact performance.\n",
      "  df_answer_summary.loc[(platform,uses_platform,question),'Neutral'] = df_results.loc[mask,f'{question}_agree'].isna().sum()\n",
      "/var/folders/8s/vl53fbd96rzd3wn49w05rygr0000gn/T/ipykernel_97854/3349402800.py:27: PerformanceWarning: indexing past lexsort depth may impact performance.\n",
      "  df_answer_summary.loc[(platform,uses_platform,question),'Disagree'] = mask.sum() - df_results.loc[mask,f'{question}_agree'].sum() - df_results.loc[mask,f'{question}_agree'].isna().sum()\n",
      "/var/folders/8s/vl53fbd96rzd3wn49w05rygr0000gn/T/ipykernel_97854/3349402800.py:25: PerformanceWarning: indexing past lexsort depth may impact performance.\n",
      "  df_answer_summary.loc[(platform,uses_platform,question),'Agree'] = df_results.loc[mask,f'{question}_agree'].sum()\n"
     ]
    }
   ],
   "source": [
    "\n",
    "df_answer_summary = pd.DataFrame(index=pd.MultiIndex.from_tuples([], names=[\"Platform\",\"Uses\",\"Question\"]), columns=['Agree', 'Neutral', 'Disagree'])\n",
    "\n",
    "for question in question_dict.keys(): \n",
    "\n",
    "\n",
    "    df_results[f'{question}_agree'] = None\n",
    "\n",
    "    mask = df_results[question].isin(agree_list)\n",
    "    df_results.loc[mask,f'{question}_agree'] = True\n",
    "\n",
    "    mask = df_results[question].isin(disagree_list)\n",
    "    df_results.loc[mask,f'{question}_agree'] = False\n",
    "\n",
    "    for platform in platform_dict.keys():\n",
    "        \n",
    "        for uses_platform in [True,False]:\n",
    "            \n",
    "            if uses_platform:\n",
    "                mask = (df_results[platform] == True)\n",
    "            else:\n",
    "                mask = (df_results[platform] == False)\n",
    "            \n",
    "            \n",
    "            \n",
    "            df_answer_summary.loc[(platform,uses_platform,question),'Agree'] = df_results.loc[mask,f'{question}_agree'].sum() \n",
    "            df_answer_summary.loc[(platform,uses_platform,question),'Neutral'] = df_results.loc[mask,f'{question}_agree'].isna().sum() \n",
    "            df_answer_summary.loc[(platform,uses_platform,question),'Disagree'] = mask.sum() - df_results.loc[mask,f'{question}_agree'].sum() - df_results.loc[mask,f'{question}_agree'].isna().sum() \n",
    "\n"
   ]
  },
  {
   "cell_type": "code",
   "execution_count": 6,
   "metadata": {},
   "outputs": [
    {
     "name": "stderr",
     "output_type": "stream",
     "text": [
      "/var/folders/8s/vl53fbd96rzd3wn49w05rygr0000gn/T/ipykernel_97854/4066486530.py:4: PerformanceWarning: indexing past lexsort depth may impact performance.\n",
      "  df_answer_summary.loc[index, 'Agree %'] = round((row['Agree'] / total_responses)*100, 1)\n",
      "/var/folders/8s/vl53fbd96rzd3wn49w05rygr0000gn/T/ipykernel_97854/4066486530.py:5: PerformanceWarning: indexing past lexsort depth may impact performance.\n",
      "  df_answer_summary.loc[index, 'Neutral %'] = round((row['Neutral'] / total_responses)*100, 1)\n",
      "/var/folders/8s/vl53fbd96rzd3wn49w05rygr0000gn/T/ipykernel_97854/4066486530.py:6: PerformanceWarning: indexing past lexsort depth may impact performance.\n",
      "  df_answer_summary.loc[index, 'Disagree %'] = round((row['Disagree'] / total_responses)*100, 1)\n",
      "/var/folders/8s/vl53fbd96rzd3wn49w05rygr0000gn/T/ipykernel_97854/4066486530.py:4: PerformanceWarning: indexing past lexsort depth may impact performance.\n",
      "  df_answer_summary.loc[index, 'Agree %'] = round((row['Agree'] / total_responses)*100, 1)\n",
      "/var/folders/8s/vl53fbd96rzd3wn49w05rygr0000gn/T/ipykernel_97854/4066486530.py:5: PerformanceWarning: indexing past lexsort depth may impact performance.\n",
      "  df_answer_summary.loc[index, 'Neutral %'] = round((row['Neutral'] / total_responses)*100, 1)\n",
      "/var/folders/8s/vl53fbd96rzd3wn49w05rygr0000gn/T/ipykernel_97854/4066486530.py:6: PerformanceWarning: indexing past lexsort depth may impact performance.\n",
      "  df_answer_summary.loc[index, 'Disagree %'] = round((row['Disagree'] / total_responses)*100, 1)\n",
      "/var/folders/8s/vl53fbd96rzd3wn49w05rygr0000gn/T/ipykernel_97854/4066486530.py:12: PerformanceWarning: indexing past lexsort depth may impact performance.\n",
      "  df_answer_summary.loc[(platform,uses_platform,question),'Pro_Israel_Perc'] = df_answer_summary.loc[(platform,uses_platform,question),f'{question_dict[question]} %']\n",
      "/var/folders/8s/vl53fbd96rzd3wn49w05rygr0000gn/T/ipykernel_97854/4066486530.py:12: PerformanceWarning: indexing past lexsort depth may impact performance.\n",
      "  df_answer_summary.loc[(platform,uses_platform,question),'Pro_Israel_Perc'] = df_answer_summary.loc[(platform,uses_platform,question),f'{question_dict[question]} %']\n"
     ]
    }
   ],
   "source": [
    "for index, row in df_answer_summary.iterrows():\n",
    "    total_responses = row['Agree'] + row['Neutral'] + row['Disagree']\n",
    "    if total_responses > 0:\n",
    "        df_answer_summary.loc[index, 'Agree %'] = round((row['Agree'] / total_responses)*100, 1)\n",
    "        df_answer_summary.loc[index, 'Neutral %'] = round((row['Neutral'] / total_responses)*100, 1)\n",
    "        df_answer_summary.loc[index, 'Disagree %'] = round((row['Disagree'] / total_responses)*100, 1)\n",
    " \n",
    "\n",
    "for question in question_dict.keys(): \n",
    "    for platform in platform_dict.keys():\n",
    "        for uses_platform in [True,False]:\n",
    "            df_answer_summary.loc[(platform,uses_platform,question),'Pro_Israel_Perc'] = df_answer_summary.loc[(platform,uses_platform,question),f'{question_dict[question]} %']"
   ]
  },
  {
   "cell_type": "code",
   "execution_count": 7,
   "metadata": {},
   "outputs": [],
   "source": [
    "df_answer_summary_gb = df_answer_summary.groupby(['Platform','Uses'])['Pro_Israel_Perc'].mean()\n",
    "df_answer_diff = pd.DataFrame(index=pd.MultiIndex.from_tuples([], names=[\"Platform\"]), columns=['Difference'])\n",
    "for platform in platform_dict.keys():\n",
    "        df_answer_diff.loc[(platform),'Difference'] = (1-df_answer_summary_gb.loc[(platform,True)]/(df_answer_summary_gb.loc[(platform,False)]))\n"
   ]
  },
  {
   "cell_type": "code",
   "execution_count": 10,
   "metadata": {},
   "outputs": [
    {
     "data": {
      "application/vnd.plotly.v1+json": {
       "config": {
        "plotlyServerURL": "https://plot.ly"
       },
       "data": [
        {
         "alignmentgroup": "True",
         "hovertemplate": "Platform=%{x}<br>Difference=%{y}<extra></extra>",
         "legendgroup": "",
         "marker": {
          "color": "#69C9D0",
          "pattern": {
           "shape": ""
          }
         },
         "name": "",
         "offsetgroup": "",
         "orientation": "v",
         "showlegend": false,
         "textposition": "auto",
         "type": "bar",
         "x": [
          "TikTok"
         ],
         "xaxis": "x",
         "y": [
          0.1725460122699386
         ],
         "yaxis": "y"
        },
        {
         "alignmentgroup": "True",
         "hovertemplate": "Platform=%{x}<br>Difference=%{y}<extra></extra>",
         "legendgroup": "",
         "marker": {
          "color": "#833AB4",
          "pattern": {
           "shape": ""
          }
         },
         "name": "",
         "offsetgroup": "",
         "orientation": "v",
         "showlegend": false,
         "textposition": "auto",
         "type": "bar",
         "x": [
          "Instagram"
         ],
         "xaxis": "x",
         "y": [
          0.05869673354335936
         ],
         "yaxis": "y"
        },
        {
         "alignmentgroup": "True",
         "hovertemplate": "Platform=%{x}<br>Difference=%{y}<extra></extra>",
         "legendgroup": "",
         "marker": {
          "color": "black",
          "pattern": {
           "shape": ""
          }
         },
         "name": "",
         "offsetgroup": "",
         "orientation": "v",
         "showlegend": false,
         "textposition": "auto",
         "type": "bar",
         "x": [
          "X"
         ],
         "xaxis": "x",
         "y": [
          0.02261048304213764
         ],
         "yaxis": "y"
        }
       ],
       "layout": {
        "annotations": [
         {
          "align": "left",
          "font": {
           "color": "grey",
           "size": 18
          },
          "showarrow": false,
          "text": "Source: Survey of 1,323 Americans aged under 30 years old conducted by Generation Lab. Includes respondents from 47 States.",
          "x": 0,
          "xref": "paper",
          "y": -0.2,
          "yref": "paper"
         },
         {
          "align": "left",
          "font": {
           "color": "grey",
           "size": 18
          },
          "showarrow": false,
          "text": "Compares people who use a platform for more than 30 minutes a day with those who don't use it at all. ",
          "x": 0,
          "xref": "paper",
          "y": -0.25,
          "yref": "paper"
         },
         {
          "align": "left",
          "font": {
           "color": "grey",
           "size": 18
          },
          "showarrow": false,
          "text": "Raw survey asked about use of Twitter/Threads. Since X/Twitter has 10x the usage of Threads we assume people are mostly referring to X/Twitter usage.",
          "x": 0,
          "xref": "paper",
          "y": -0.3,
          "yref": "paper"
         }
        ],
        "barmode": "relative",
        "font": {
         "size": 22
        },
        "height": 900,
        "legend": {
         "tracegroupgap": 0
        },
        "margin": {
         "b": 200,
         "t": 150
        },
        "paper_bgcolor": "white",
        "plot_bgcolor": "white",
        "template": {
         "data": {
          "bar": [
           {
            "error_x": {
             "color": "#2a3f5f"
            },
            "error_y": {
             "color": "#2a3f5f"
            },
            "marker": {
             "line": {
              "color": "#E5ECF6",
              "width": 0.5
             },
             "pattern": {
              "fillmode": "overlay",
              "size": 10,
              "solidity": 0.2
             }
            },
            "type": "bar"
           }
          ],
          "barpolar": [
           {
            "marker": {
             "line": {
              "color": "#E5ECF6",
              "width": 0.5
             },
             "pattern": {
              "fillmode": "overlay",
              "size": 10,
              "solidity": 0.2
             }
            },
            "type": "barpolar"
           }
          ],
          "carpet": [
           {
            "aaxis": {
             "endlinecolor": "#2a3f5f",
             "gridcolor": "white",
             "linecolor": "white",
             "minorgridcolor": "white",
             "startlinecolor": "#2a3f5f"
            },
            "baxis": {
             "endlinecolor": "#2a3f5f",
             "gridcolor": "white",
             "linecolor": "white",
             "minorgridcolor": "white",
             "startlinecolor": "#2a3f5f"
            },
            "type": "carpet"
           }
          ],
          "choropleth": [
           {
            "colorbar": {
             "outlinewidth": 0,
             "ticks": ""
            },
            "type": "choropleth"
           }
          ],
          "contour": [
           {
            "colorbar": {
             "outlinewidth": 0,
             "ticks": ""
            },
            "colorscale": [
             [
              0,
              "#0d0887"
             ],
             [
              0.1111111111111111,
              "#46039f"
             ],
             [
              0.2222222222222222,
              "#7201a8"
             ],
             [
              0.3333333333333333,
              "#9c179e"
             ],
             [
              0.4444444444444444,
              "#bd3786"
             ],
             [
              0.5555555555555556,
              "#d8576b"
             ],
             [
              0.6666666666666666,
              "#ed7953"
             ],
             [
              0.7777777777777778,
              "#fb9f3a"
             ],
             [
              0.8888888888888888,
              "#fdca26"
             ],
             [
              1,
              "#f0f921"
             ]
            ],
            "type": "contour"
           }
          ],
          "contourcarpet": [
           {
            "colorbar": {
             "outlinewidth": 0,
             "ticks": ""
            },
            "type": "contourcarpet"
           }
          ],
          "heatmap": [
           {
            "colorbar": {
             "outlinewidth": 0,
             "ticks": ""
            },
            "colorscale": [
             [
              0,
              "#0d0887"
             ],
             [
              0.1111111111111111,
              "#46039f"
             ],
             [
              0.2222222222222222,
              "#7201a8"
             ],
             [
              0.3333333333333333,
              "#9c179e"
             ],
             [
              0.4444444444444444,
              "#bd3786"
             ],
             [
              0.5555555555555556,
              "#d8576b"
             ],
             [
              0.6666666666666666,
              "#ed7953"
             ],
             [
              0.7777777777777778,
              "#fb9f3a"
             ],
             [
              0.8888888888888888,
              "#fdca26"
             ],
             [
              1,
              "#f0f921"
             ]
            ],
            "type": "heatmap"
           }
          ],
          "heatmapgl": [
           {
            "colorbar": {
             "outlinewidth": 0,
             "ticks": ""
            },
            "colorscale": [
             [
              0,
              "#0d0887"
             ],
             [
              0.1111111111111111,
              "#46039f"
             ],
             [
              0.2222222222222222,
              "#7201a8"
             ],
             [
              0.3333333333333333,
              "#9c179e"
             ],
             [
              0.4444444444444444,
              "#bd3786"
             ],
             [
              0.5555555555555556,
              "#d8576b"
             ],
             [
              0.6666666666666666,
              "#ed7953"
             ],
             [
              0.7777777777777778,
              "#fb9f3a"
             ],
             [
              0.8888888888888888,
              "#fdca26"
             ],
             [
              1,
              "#f0f921"
             ]
            ],
            "type": "heatmapgl"
           }
          ],
          "histogram": [
           {
            "marker": {
             "pattern": {
              "fillmode": "overlay",
              "size": 10,
              "solidity": 0.2
             }
            },
            "type": "histogram"
           }
          ],
          "histogram2d": [
           {
            "colorbar": {
             "outlinewidth": 0,
             "ticks": ""
            },
            "colorscale": [
             [
              0,
              "#0d0887"
             ],
             [
              0.1111111111111111,
              "#46039f"
             ],
             [
              0.2222222222222222,
              "#7201a8"
             ],
             [
              0.3333333333333333,
              "#9c179e"
             ],
             [
              0.4444444444444444,
              "#bd3786"
             ],
             [
              0.5555555555555556,
              "#d8576b"
             ],
             [
              0.6666666666666666,
              "#ed7953"
             ],
             [
              0.7777777777777778,
              "#fb9f3a"
             ],
             [
              0.8888888888888888,
              "#fdca26"
             ],
             [
              1,
              "#f0f921"
             ]
            ],
            "type": "histogram2d"
           }
          ],
          "histogram2dcontour": [
           {
            "colorbar": {
             "outlinewidth": 0,
             "ticks": ""
            },
            "colorscale": [
             [
              0,
              "#0d0887"
             ],
             [
              0.1111111111111111,
              "#46039f"
             ],
             [
              0.2222222222222222,
              "#7201a8"
             ],
             [
              0.3333333333333333,
              "#9c179e"
             ],
             [
              0.4444444444444444,
              "#bd3786"
             ],
             [
              0.5555555555555556,
              "#d8576b"
             ],
             [
              0.6666666666666666,
              "#ed7953"
             ],
             [
              0.7777777777777778,
              "#fb9f3a"
             ],
             [
              0.8888888888888888,
              "#fdca26"
             ],
             [
              1,
              "#f0f921"
             ]
            ],
            "type": "histogram2dcontour"
           }
          ],
          "mesh3d": [
           {
            "colorbar": {
             "outlinewidth": 0,
             "ticks": ""
            },
            "type": "mesh3d"
           }
          ],
          "parcoords": [
           {
            "line": {
             "colorbar": {
              "outlinewidth": 0,
              "ticks": ""
             }
            },
            "type": "parcoords"
           }
          ],
          "pie": [
           {
            "automargin": true,
            "type": "pie"
           }
          ],
          "scatter": [
           {
            "fillpattern": {
             "fillmode": "overlay",
             "size": 10,
             "solidity": 0.2
            },
            "type": "scatter"
           }
          ],
          "scatter3d": [
           {
            "line": {
             "colorbar": {
              "outlinewidth": 0,
              "ticks": ""
             }
            },
            "marker": {
             "colorbar": {
              "outlinewidth": 0,
              "ticks": ""
             }
            },
            "type": "scatter3d"
           }
          ],
          "scattercarpet": [
           {
            "marker": {
             "colorbar": {
              "outlinewidth": 0,
              "ticks": ""
             }
            },
            "type": "scattercarpet"
           }
          ],
          "scattergeo": [
           {
            "marker": {
             "colorbar": {
              "outlinewidth": 0,
              "ticks": ""
             }
            },
            "type": "scattergeo"
           }
          ],
          "scattergl": [
           {
            "marker": {
             "colorbar": {
              "outlinewidth": 0,
              "ticks": ""
             }
            },
            "type": "scattergl"
           }
          ],
          "scattermapbox": [
           {
            "marker": {
             "colorbar": {
              "outlinewidth": 0,
              "ticks": ""
             }
            },
            "type": "scattermapbox"
           }
          ],
          "scatterpolar": [
           {
            "marker": {
             "colorbar": {
              "outlinewidth": 0,
              "ticks": ""
             }
            },
            "type": "scatterpolar"
           }
          ],
          "scatterpolargl": [
           {
            "marker": {
             "colorbar": {
              "outlinewidth": 0,
              "ticks": ""
             }
            },
            "type": "scatterpolargl"
           }
          ],
          "scatterternary": [
           {
            "marker": {
             "colorbar": {
              "outlinewidth": 0,
              "ticks": ""
             }
            },
            "type": "scatterternary"
           }
          ],
          "surface": [
           {
            "colorbar": {
             "outlinewidth": 0,
             "ticks": ""
            },
            "colorscale": [
             [
              0,
              "#0d0887"
             ],
             [
              0.1111111111111111,
              "#46039f"
             ],
             [
              0.2222222222222222,
              "#7201a8"
             ],
             [
              0.3333333333333333,
              "#9c179e"
             ],
             [
              0.4444444444444444,
              "#bd3786"
             ],
             [
              0.5555555555555556,
              "#d8576b"
             ],
             [
              0.6666666666666666,
              "#ed7953"
             ],
             [
              0.7777777777777778,
              "#fb9f3a"
             ],
             [
              0.8888888888888888,
              "#fdca26"
             ],
             [
              1,
              "#f0f921"
             ]
            ],
            "type": "surface"
           }
          ],
          "table": [
           {
            "cells": {
             "fill": {
              "color": "#EBF0F8"
             },
             "line": {
              "color": "white"
             }
            },
            "header": {
             "fill": {
              "color": "#C8D4E3"
             },
             "line": {
              "color": "white"
             }
            },
            "type": "table"
           }
          ]
         },
         "layout": {
          "annotationdefaults": {
           "arrowcolor": "#2a3f5f",
           "arrowhead": 0,
           "arrowwidth": 1
          },
          "autotypenumbers": "strict",
          "coloraxis": {
           "colorbar": {
            "outlinewidth": 0,
            "ticks": ""
           }
          },
          "colorscale": {
           "diverging": [
            [
             0,
             "#8e0152"
            ],
            [
             0.1,
             "#c51b7d"
            ],
            [
             0.2,
             "#de77ae"
            ],
            [
             0.3,
             "#f1b6da"
            ],
            [
             0.4,
             "#fde0ef"
            ],
            [
             0.5,
             "#f7f7f7"
            ],
            [
             0.6,
             "#e6f5d0"
            ],
            [
             0.7,
             "#b8e186"
            ],
            [
             0.8,
             "#7fbc41"
            ],
            [
             0.9,
             "#4d9221"
            ],
            [
             1,
             "#276419"
            ]
           ],
           "sequential": [
            [
             0,
             "#0d0887"
            ],
            [
             0.1111111111111111,
             "#46039f"
            ],
            [
             0.2222222222222222,
             "#7201a8"
            ],
            [
             0.3333333333333333,
             "#9c179e"
            ],
            [
             0.4444444444444444,
             "#bd3786"
            ],
            [
             0.5555555555555556,
             "#d8576b"
            ],
            [
             0.6666666666666666,
             "#ed7953"
            ],
            [
             0.7777777777777778,
             "#fb9f3a"
            ],
            [
             0.8888888888888888,
             "#fdca26"
            ],
            [
             1,
             "#f0f921"
            ]
           ],
           "sequentialminus": [
            [
             0,
             "#0d0887"
            ],
            [
             0.1111111111111111,
             "#46039f"
            ],
            [
             0.2222222222222222,
             "#7201a8"
            ],
            [
             0.3333333333333333,
             "#9c179e"
            ],
            [
             0.4444444444444444,
             "#bd3786"
            ],
            [
             0.5555555555555556,
             "#d8576b"
            ],
            [
             0.6666666666666666,
             "#ed7953"
            ],
            [
             0.7777777777777778,
             "#fb9f3a"
            ],
            [
             0.8888888888888888,
             "#fdca26"
            ],
            [
             1,
             "#f0f921"
            ]
           ]
          },
          "colorway": [
           "#636efa",
           "#EF553B",
           "#00cc96",
           "#ab63fa",
           "#FFA15A",
           "#19d3f3",
           "#FF6692",
           "#B6E880",
           "#FF97FF",
           "#FECB52"
          ],
          "font": {
           "color": "#2a3f5f"
          },
          "geo": {
           "bgcolor": "white",
           "lakecolor": "white",
           "landcolor": "#E5ECF6",
           "showlakes": true,
           "showland": true,
           "subunitcolor": "white"
          },
          "hoverlabel": {
           "align": "left"
          },
          "hovermode": "closest",
          "mapbox": {
           "style": "light"
          },
          "paper_bgcolor": "white",
          "plot_bgcolor": "#E5ECF6",
          "polar": {
           "angularaxis": {
            "gridcolor": "white",
            "linecolor": "white",
            "ticks": ""
           },
           "bgcolor": "#E5ECF6",
           "radialaxis": {
            "gridcolor": "white",
            "linecolor": "white",
            "ticks": ""
           }
          },
          "scene": {
           "xaxis": {
            "backgroundcolor": "#E5ECF6",
            "gridcolor": "white",
            "gridwidth": 2,
            "linecolor": "white",
            "showbackground": true,
            "ticks": "",
            "zerolinecolor": "white"
           },
           "yaxis": {
            "backgroundcolor": "#E5ECF6",
            "gridcolor": "white",
            "gridwidth": 2,
            "linecolor": "white",
            "showbackground": true,
            "ticks": "",
            "zerolinecolor": "white"
           },
           "zaxis": {
            "backgroundcolor": "#E5ECF6",
            "gridcolor": "white",
            "gridwidth": 2,
            "linecolor": "white",
            "showbackground": true,
            "ticks": "",
            "zerolinecolor": "white"
           }
          },
          "shapedefaults": {
           "line": {
            "color": "#2a3f5f"
           }
          },
          "ternary": {
           "aaxis": {
            "gridcolor": "white",
            "linecolor": "white",
            "ticks": ""
           },
           "baxis": {
            "gridcolor": "white",
            "linecolor": "white",
            "ticks": ""
           },
           "bgcolor": "#E5ECF6",
           "caxis": {
            "gridcolor": "white",
            "linecolor": "white",
            "ticks": ""
           }
          },
          "title": {
           "x": 0.05
          },
          "xaxis": {
           "automargin": true,
           "gridcolor": "white",
           "linecolor": "white",
           "ticks": "",
           "title": {
            "standoff": 15
           },
           "zerolinecolor": "white",
           "zerolinewidth": 2
          },
          "yaxis": {
           "automargin": true,
           "gridcolor": "white",
           "linecolor": "white",
           "ticks": "",
           "title": {
            "standoff": 15
           },
           "zerolinecolor": "white",
           "zerolinewidth": 2
          }
         }
        },
        "title": {
         "font": {
          "size": 40
         },
         "text": "Relationship Between Platform Usage and Antisemitic/Anti-Israel Views"
        },
        "width": 1800,
        "xaxis": {
         "anchor": "y",
         "automargin": true,
         "domain": [
          0,
          1
         ],
         "tickfont": {
          "size": 38
         },
         "title": {
          "text": ""
         }
        },
        "yaxis": {
         "anchor": "x",
         "domain": [
          0,
          1
         ],
         "tickformat": "+.0%",
         "title": {
          "font": {
           "size": 22
          },
          "text": "Change in likelihood (user/non-user)"
         }
        }
       }
      }
     },
     "metadata": {},
     "output_type": "display_data"
    }
   ],
   "source": [
    "\n",
    "colors = ['#69C9D0', '#833AB4', 'black']  # Define your color sequence here\n",
    "\n",
    "# Assign a different color to each row in the dataframe\n",
    "df_answer_diff['Color'] = [colors[i % len(colors)] for i in range(len(df_answer_diff))]\n",
    "\n",
    "# Creating a bar chart using Plotly with different colors for each bar\n",
    "fig = px.bar(df_answer_diff.reset_index(), x='Platform', y='Difference', color='Color', color_discrete_map='identity')\n",
    "\n",
    "fig.update_yaxes(tickformat='+.0%')\n",
    "fig.update_xaxes(tickfont=dict(size=38),automargin=True)\n",
    "\n",
    "\n",
    "# Updating layout for clarity\n",
    "fig.update_layout(\n",
    "    paper_bgcolor='white',  # Set the background color of the paper (outside plot)\n",
    "    plot_bgcolor='white',   # Set the background color of the plot\n",
    "    font=dict(size=22),\n",
    "    title=dict(text='Relationship Between Platform Usage and Antisemitic/Anti-Israel Views', font=dict(size=40)),\n",
    "    yaxis_title=dict(text='Change in likelihood (user/non-user)',font=dict(size=22)),\n",
    "    xaxis_title='',  # Remove the x-axis label\n",
    "    width=1800, height=900,\n",
    "    margin=dict(t=150, b=200),\n",
    ")\n",
    "\n",
    "fig.add_annotation(\n",
    "    text=\"Source: Survey of 1,323 Americans aged under 30 years old conducted by Generation Lab. Includes respondents from 47 States.\",  # Replace with your source\n",
    "    xref=\"paper\", x=0.0,  # x=0.5 for center alignment, x=1 for right alignment\n",
    "    yref=\"paper\", y=-0.2,  # Negative value to place it below the x-axis\n",
    "    showarrow=False,\n",
    "    font=dict(size=18,color=\"grey\"),  # You can adjust the font size and color\n",
    "    align=\"left\", # or \"right\" for right alignment\n",
    ")\n",
    "fig.add_annotation(\n",
    "    text=\"Compares people who use a platform for more than 30 minutes a day with those who don't use it at all. \",  # Replace with your source\n",
    "    xref=\"paper\", x=0.0,  # x=0.5 for center alignment, x=1 for right alignment\n",
    "    yref=\"paper\", y=-0.25,  # Negative value to place it below the x-axis\n",
    "    showarrow=False,\n",
    "    font=dict(size=18,color=\"grey\"),  # You can adjust the font size and color\n",
    "    align=\"left\", # or \"right\" for right alignment\n",
    ")\n",
    "fig.add_annotation(\n",
    "    text=\"Raw survey asked about use of Twitter/Threads. Since X/Twitter has 10x the usage of Threads we assume people are mostly referring to X/Twitter usage.\",  # Replace with your source\n",
    "    xref=\"paper\", x=0.0,  # x=0.5 for center alignment, x=1 for right alignment\n",
    "    yref=\"paper\", y=-0.3,  # Negative value to place it below the x-axis\n",
    "    showarrow=False,\n",
    "    font=dict(size=18,color=\"grey\"),  # You can adjust the font size and color\n",
    "    align=\"left\", # or \"right\" for right alignment\n",
    ")\n",
    "\n",
    "# Displaying the figure\n",
    "fig.show()"
   ]
  },
  {
   "cell_type": "code",
   "execution_count": 9,
   "metadata": {},
   "outputs": [
    {
     "data": {
      "text/html": [
       "<div>\n",
       "<style scoped>\n",
       "    .dataframe tbody tr th:only-of-type {\n",
       "        vertical-align: middle;\n",
       "    }\n",
       "\n",
       "    .dataframe tbody tr th {\n",
       "        vertical-align: top;\n",
       "    }\n",
       "\n",
       "    .dataframe thead th {\n",
       "        text-align: right;\n",
       "    }\n",
       "</style>\n",
       "<table border=\"1\" class=\"dataframe\">\n",
       "  <thead>\n",
       "    <tr style=\"text-align: right;\">\n",
       "      <th></th>\n",
       "      <th></th>\n",
       "      <th>Difference</th>\n",
       "    </tr>\n",
       "    <tr>\n",
       "      <th>Platform</th>\n",
       "      <th>Focus</th>\n",
       "      <th></th>\n",
       "    </tr>\n",
       "  </thead>\n",
       "  <tbody>\n",
       "    <tr>\n",
       "      <th rowspan=\"2\" valign=\"top\">TikTok</th>\n",
       "      <th>Anti-Semitism</th>\n",
       "      <td>20.475228</td>\n",
       "    </tr>\n",
       "    <tr>\n",
       "      <th>Anti-Israel</th>\n",
       "      <td>12.285491</td>\n",
       "    </tr>\n",
       "  </tbody>\n",
       "</table>\n",
       "</div>"
      ],
      "text/plain": [
       "                       Difference\n",
       "Platform Focus                   \n",
       "TikTok   Anti-Semitism  20.475228\n",
       "         Anti-Israel    12.285491"
      ]
     },
     "execution_count": 9,
     "metadata": {},
     "output_type": "execute_result"
    }
   ],
   "source": [
    "df_answer_summary.loc[df_answer_summary.index.get_level_values(2).isin(['1.9_1','1.9_2','1.9_3','1.9_4','1.9_5','1.9_6']),'Focus'] = 'Anti-Semitism'\n",
    "df_answer_summary.loc[df_answer_summary.index.get_level_values(2).isin(['1.9_7','1.9_8','1.9_9','1.9_10','1.9_11','1.9_12']),'Focus'] = 'Anti-Israel'\n",
    "\n",
    "df_answer_summary_plot = df_answer_summary.reset_index()\n",
    "\n",
    "df_answer_summary_gb = df_answer_summary_plot.groupby(['Platform','Uses','Focus'])['Pro_Israel_Perc'].mean()\n",
    "df_answer_diff_with_focus= pd.DataFrame(index=pd.MultiIndex.from_tuples([], names=[\"Platform\",\"Focus\"]), columns=['Difference'])\n",
    "platform = 'TikTok'\n",
    "for focus in ['Anti-Semitism','Anti-Israel']:\n",
    "    df_answer_diff_with_focus.loc[(platform,focus),'Difference'] = (1-df_answer_summary_gb.loc[(platform,True,focus)]/(df_answer_summary_gb.loc[(platform,False,focus)]))*100 \n",
    "\n",
    "df_answer_diff_with_focus"
   ]
  },
  {
   "cell_type": "code",
   "execution_count": 11,
   "metadata": {},
   "outputs": [],
   "source": [
    "df_answer_summary_dump = df_answer_summary.reset_index().merge(df_questions,left_on='Question',right_index=True).rename(columns={'Response ID':'Question Text'})\n",
    "df_answer_summary_dump['Question Text'] = df_answer_summary_dump['Question Text'].str[80:]"
   ]
  },
  {
   "cell_type": "code",
   "execution_count": 12,
   "metadata": {},
   "outputs": [],
   "source": [
    "df_answer_summary_dump.to_csv(f'{FOLDER}survey_israel_questions_clean.csv')"
   ]
  },
  {
   "cell_type": "code",
   "execution_count": 13,
   "metadata": {},
   "outputs": [
    {
     "name": "stdout",
     "output_type": "stream",
     "text": [
      "1. Jewish people can be trusted just as much as other American people in business.\n",
      "2. Jewish people are just as loyal to America as other American people.\n",
      "3. I am just as open to having Jewish friends as I am to having friends from other sections of American society.\n",
      "4. Compared to other groups, Jewish people have too much power in the media.\n",
      "5. Jewish people talk about the Holocaust just to further their political agenda.\n",
      "6. Jewish people chase money more than other people do.\n",
      "7. I am comfortable spending time with people who openly support Israel.\n",
      "8. Israel has a right to exist as a homeland for the Jewish people.\n",
      "9. Israel is right to defend itself against those who want to destroy it.\n",
      "10. Israel and its supporters are a bad influence on our democracy.\n",
      "11. Israel can get away with anything because its supporters control the media.\n",
      "12. Israel treats the Palestinians like the Nazis treated the Jews.\n"
     ]
    }
   ],
   "source": [
    "count = 1\n",
    "for question in df_answer_summary_dump['Question Text'].drop_duplicates():\n",
    "    print(f\"{count}. {question}\")\n",
    "    count += 1"
   ]
  },
  {
   "cell_type": "code",
   "execution_count": null,
   "metadata": {},
   "outputs": [],
   "source": [
    "df_answer_summary_dump"
   ]
  },
  {
   "cell_type": "code",
   "execution_count": null,
   "metadata": {},
   "outputs": [],
   "source": []
  }
 ],
 "metadata": {
  "kernelspec": {
   "display_name": "tiktok_env",
   "language": "python",
   "name": "python3"
  },
  "language_info": {
   "codemirror_mode": {
    "name": "ipython",
    "version": 3
   },
   "file_extension": ".py",
   "mimetype": "text/x-python",
   "name": "python",
   "nbconvert_exporter": "python",
   "pygments_lexer": "ipython3",
   "version": "3.10.6"
  }
 },
 "nbformat": 4,
 "nbformat_minor": 2
}
